{
  "nbformat": 4,
  "nbformat_minor": 0,
  "metadata": {
    "colab": {
      "name": "Will Chapter 5.ipynb",
      "provenance": [],
      "authorship_tag": "ABX9TyPbPvuoDGuJ4UJTN55fLcrQ"
    },
    "kernelspec": {
      "name": "python3",
      "display_name": "Python 3"
    },
    "language_info": {
      "name": "python"
    }
  },
  "cells": [
    {
      "cell_type": "code",
      "metadata": {
        "id": "jaQ_hnwPhdUX"
      },
      "source": [
        "%config InlineBackend.figure_format = 'svg'\n",
        "import pandas as pd\n",
        "pd.set_option('display.max_rows', 500)\n",
        "pd.set_option('display.max_columns', 500)\n",
        "pd.set_option('display.width', 70)"
      ],
      "execution_count": 25,
      "outputs": []
    },
    {
      "cell_type": "markdown",
      "metadata": {
        "id": "KCUdZqUtwN9y"
      },
      "source": [
        "## 5.1 Simulating consumer segment data"
      ]
    },
    {
      "cell_type": "code",
      "metadata": {
        "id": "NmtGwGOLhk9M",
        "colab": {
          "base_uri": "https://localhost:8080/",
          "height": 204
        },
        "outputId": "28451046-77ec-418b-d096-82ecd067c6ec"
      },
      "source": [
        "import pandas as pd\n",
        "segment_data = pd.read_csv('http://bit.ly/PMR-ch5')\n",
        "segment_data.head()"
      ],
      "execution_count": 26,
      "outputs": [
        {
          "output_type": "execute_result",
          "data": {
            "text/html": [
              "<div>\n",
              "<style scoped>\n",
              "    .dataframe tbody tr th:only-of-type {\n",
              "        vertical-align: middle;\n",
              "    }\n",
              "\n",
              "    .dataframe tbody tr th {\n",
              "        vertical-align: top;\n",
              "    }\n",
              "\n",
              "    .dataframe thead th {\n",
              "        text-align: right;\n",
              "    }\n",
              "</style>\n",
              "<table border=\"1\" class=\"dataframe\">\n",
              "  <thead>\n",
              "    <tr style=\"text-align: right;\">\n",
              "      <th></th>\n",
              "      <th>Segment</th>\n",
              "      <th>age</th>\n",
              "      <th>gender</th>\n",
              "      <th>income</th>\n",
              "      <th>kids</th>\n",
              "      <th>own_home</th>\n",
              "      <th>subscribe</th>\n",
              "    </tr>\n",
              "  </thead>\n",
              "  <tbody>\n",
              "    <tr>\n",
              "      <th>0</th>\n",
              "      <td>travelers</td>\n",
              "      <td>60.794945</td>\n",
              "      <td>male</td>\n",
              "      <td>57014.537526</td>\n",
              "      <td>0</td>\n",
              "      <td>True</td>\n",
              "      <td>False</td>\n",
              "    </tr>\n",
              "    <tr>\n",
              "      <th>1</th>\n",
              "      <td>travelers</td>\n",
              "      <td>61.764535</td>\n",
              "      <td>female</td>\n",
              "      <td>43796.941252</td>\n",
              "      <td>0</td>\n",
              "      <td>False</td>\n",
              "      <td>False</td>\n",
              "    </tr>\n",
              "    <tr>\n",
              "      <th>2</th>\n",
              "      <td>travelers</td>\n",
              "      <td>47.493356</td>\n",
              "      <td>male</td>\n",
              "      <td>51095.344683</td>\n",
              "      <td>0</td>\n",
              "      <td>True</td>\n",
              "      <td>False</td>\n",
              "    </tr>\n",
              "    <tr>\n",
              "      <th>3</th>\n",
              "      <td>travelers</td>\n",
              "      <td>60.963694</td>\n",
              "      <td>male</td>\n",
              "      <td>56457.722237</td>\n",
              "      <td>0</td>\n",
              "      <td>True</td>\n",
              "      <td>True</td>\n",
              "    </tr>\n",
              "    <tr>\n",
              "      <th>4</th>\n",
              "      <td>travelers</td>\n",
              "      <td>60.594199</td>\n",
              "      <td>female</td>\n",
              "      <td>103020.070798</td>\n",
              "      <td>0</td>\n",
              "      <td>True</td>\n",
              "      <td>False</td>\n",
              "    </tr>\n",
              "  </tbody>\n",
              "</table>\n",
              "</div>"
            ],
            "text/plain": [
              "     Segment        age  gender         income  kids  own_home  \\\n",
              "0  travelers  60.794945    male   57014.537526     0      True   \n",
              "1  travelers  61.764535  female   43796.941252     0     False   \n",
              "2  travelers  47.493356    male   51095.344683     0      True   \n",
              "3  travelers  60.963694    male   56457.722237     0      True   \n",
              "4  travelers  60.594199  female  103020.070798     0      True   \n",
              "\n",
              "   subscribe  \n",
              "0      False  \n",
              "1      False  \n",
              "2      False  \n",
              "3       True  \n",
              "4      False  "
            ]
          },
          "metadata": {
            "tags": []
          },
          "execution_count": 26
        }
      ]
    },
    {
      "cell_type": "code",
      "metadata": {
        "id": "2rFfu6-piGwT",
        "colab": {
          "base_uri": "https://localhost:8080/",
          "height": 297
        },
        "outputId": "e4a6684c-33d0-4122-e758-fcf9d2de8127"
      },
      "source": [
        "segment_data.describe()"
      ],
      "execution_count": 27,
      "outputs": [
        {
          "output_type": "execute_result",
          "data": {
            "text/html": [
              "<div>\n",
              "<style scoped>\n",
              "    .dataframe tbody tr th:only-of-type {\n",
              "        vertical-align: middle;\n",
              "    }\n",
              "\n",
              "    .dataframe tbody tr th {\n",
              "        vertical-align: top;\n",
              "    }\n",
              "\n",
              "    .dataframe thead th {\n",
              "        text-align: right;\n",
              "    }\n",
              "</style>\n",
              "<table border=\"1\" class=\"dataframe\">\n",
              "  <thead>\n",
              "    <tr style=\"text-align: right;\">\n",
              "      <th></th>\n",
              "      <th>age</th>\n",
              "      <th>income</th>\n",
              "      <th>kids</th>\n",
              "    </tr>\n",
              "  </thead>\n",
              "  <tbody>\n",
              "    <tr>\n",
              "      <th>count</th>\n",
              "      <td>300.000000</td>\n",
              "      <td>300.000000</td>\n",
              "      <td>300.000000</td>\n",
              "    </tr>\n",
              "    <tr>\n",
              "      <th>mean</th>\n",
              "      <td>40.923350</td>\n",
              "      <td>50669.454237</td>\n",
              "      <td>1.273333</td>\n",
              "    </tr>\n",
              "    <tr>\n",
              "      <th>std</th>\n",
              "      <td>12.827494</td>\n",
              "      <td>19336.497748</td>\n",
              "      <td>1.413725</td>\n",
              "    </tr>\n",
              "    <tr>\n",
              "      <th>min</th>\n",
              "      <td>18.388730</td>\n",
              "      <td>11297.309231</td>\n",
              "      <td>0.000000</td>\n",
              "    </tr>\n",
              "    <tr>\n",
              "      <th>25%</th>\n",
              "      <td>32.870035</td>\n",
              "      <td>41075.804389</td>\n",
              "      <td>0.000000</td>\n",
              "    </tr>\n",
              "    <tr>\n",
              "      <th>50%</th>\n",
              "      <td>38.896711</td>\n",
              "      <td>51560.344807</td>\n",
              "      <td>1.000000</td>\n",
              "    </tr>\n",
              "    <tr>\n",
              "      <th>75%</th>\n",
              "      <td>47.987569</td>\n",
              "      <td>62172.668698</td>\n",
              "      <td>2.000000</td>\n",
              "    </tr>\n",
              "    <tr>\n",
              "      <th>max</th>\n",
              "      <td>79.650722</td>\n",
              "      <td>108830.388732</td>\n",
              "      <td>7.000000</td>\n",
              "    </tr>\n",
              "  </tbody>\n",
              "</table>\n",
              "</div>"
            ],
            "text/plain": [
              "              age         income        kids\n",
              "count  300.000000     300.000000  300.000000\n",
              "mean    40.923350   50669.454237    1.273333\n",
              "std     12.827494   19336.497748    1.413725\n",
              "min     18.388730   11297.309231    0.000000\n",
              "25%     32.870035   41075.804389    0.000000\n",
              "50%     38.896711   51560.344807    1.000000\n",
              "75%     47.987569   62172.668698    2.000000\n",
              "max     79.650722  108830.388732    7.000000"
            ]
          },
          "metadata": {
            "tags": []
          },
          "execution_count": 27
        }
      ]
    },
    {
      "cell_type": "markdown",
      "metadata": {
        "id": "Lv_6T9SewKmR"
      },
      "source": [
        "### 5.1.1 Segment data definition"
      ]
    },
    {
      "cell_type": "code",
      "metadata": {
        "id": "FHVyeHPkbxfh",
        "colab": {
          "base_uri": "https://localhost:8080/",
          "height": 35
        },
        "outputId": "5dcabab1-af9f-41b0-b927-7adb335292bf"
      },
      "source": [
        "segment_variables = ['age', 'gender', 'income', 'kids', 'own_home',\n",
        "                     'subscribe']\n",
        "segment_variables_distribution = dict(zip(segment_variables,\n",
        "                                          ['normal', 'binomial',\n",
        "                                           'normal','poisson',\n",
        "                                           'binomial', 'binomial']))\n",
        "\n",
        "segment_variables_distribution['age']"
      ],
      "execution_count": 28,
      "outputs": [
        {
          "output_type": "execute_result",
          "data": {
            "application/vnd.google.colaboratory.intrinsic+json": {
              "type": "string"
            },
            "text/plain": [
              "'normal'"
            ]
          },
          "metadata": {
            "tags": []
          },
          "execution_count": 28
        }
      ]
    },
    {
      "cell_type": "code",
      "metadata": {
        "id": "9wRlrfkyeOrf",
        "colab": {
          "base_uri": "https://localhost:8080/"
        },
        "outputId": "d88677ef-e6a7-4ff9-fc19-71fda8aa50a0"
      },
      "source": [
        "segment_variables_distribution"
      ],
      "execution_count": 29,
      "outputs": [
        {
          "output_type": "execute_result",
          "data": {
            "text/plain": [
              "{'age': 'normal',\n",
              " 'gender': 'binomial',\n",
              " 'income': 'normal',\n",
              " 'kids': 'poisson',\n",
              " 'own_home': 'binomial',\n",
              " 'subscribe': 'binomial'}"
            ]
          },
          "metadata": {
            "tags": []
          },
          "execution_count": 29
        }
      ]
    },
    {
      "cell_type": "code",
      "metadata": {
        "id": "kwAt4s5yc6ab"
      },
      "source": [
        "segment_means = {'suburb_mix': [40, 0.5, 55000, 2, 0.5, 0.1],\n",
        "                 'urban_hip':  [24, 0.7, 21000, 1, 0.2, 0.2],\n",
        "                 'travelers':  [58, 0.5, 64000, 0, 0.7, 0.05],\n",
        "                 'moving_up':  [36, 0.3, 52000, 2, 0.3, 0.2]}"
      ],
      "execution_count": 31,
      "outputs": []
    },
    {
      "cell_type": "code",
      "metadata": {
        "id": "Wyggv0DYc680"
      },
      "source": [
        "# standard deviations for each segment \n",
        "# None = not applicable for the variable)\n",
        "segment_stddev = {'suburb_mix': [5, None, 12000, None, None, None],\n",
        "                  'urban_hip':  [2, None, 5000, None, None, None],\n",
        "                  'travelers':  [8, None, 21000, None, None, None],\n",
        "                  'moving_up':  [4, None, 10000, None, None, None]}"
      ],
      "execution_count": 32,
      "outputs": []
    },
    {
      "cell_type": "code",
      "metadata": {
        "id": "5iAdxWQVbxbJ"
      },
      "source": [
        "segment_names = ['suburb_mix', 'urban_hip', 'travelers', 'moving_up']\n",
        "segment_sizes = dict(zip(segment_names,[100, 50, 80, 70]))\n",
        "\n",
        "segment_statistics = {}\n",
        "for name in segment_names:\n",
        "  segment_statistics[name] = {'size': segment_sizes[name]}\n",
        "  for i, variable in enumerate(segment_variables):\n",
        "    segment_statistics[name][variable] = {\n",
        "        'mean': segment_means[name][i],\n",
        "        'stddev': segment_stddev[name][i]\n",
        "    }"
      ],
      "execution_count": 33,
      "outputs": []
    },
    {
      "cell_type": "code",
      "metadata": {
        "id": "1nP_QnKMFHT1",
        "colab": {
          "base_uri": "https://localhost:8080/"
        },
        "outputId": "369ef2d0-1699-40d4-bf13-e83d786591cc"
      },
      "source": [
        "segment_statistics['moving_up']"
      ],
      "execution_count": 34,
      "outputs": [
        {
          "output_type": "execute_result",
          "data": {
            "text/plain": [
              "{'age': {'mean': 36, 'stddev': 4},\n",
              " 'gender': {'mean': 0.3, 'stddev': None},\n",
              " 'income': {'mean': 52000, 'stddev': 10000},\n",
              " 'kids': {'mean': 2, 'stddev': None},\n",
              " 'own_home': {'mean': 0.3, 'stddev': None},\n",
              " 'size': 70,\n",
              " 'subscribe': {'mean': 0.2, 'stddev': None}}"
            ]
          },
          "metadata": {
            "tags": []
          },
          "execution_count": 34
        }
      ]
    },
    {
      "cell_type": "markdown",
      "metadata": {
        "id": "BIvyIqiPwGJ5"
      },
      "source": [
        "\n",
        "\n",
        "```\n",
        "# This is formatted as code\n",
        "```\n",
        "\n",
        "### 5.1.2 Final segment data generation"
      ]
    },
    {
      "cell_type": "code",
      "metadata": {
        "id": "t0IhaNeqgzEg",
        "colab": {
          "base_uri": "https://localhost:8080/"
        },
        "outputId": "bcffd1d0-0136-482a-e555-578624050bfd"
      },
      "source": [
        "import numpy as np\n",
        "import pandas as pd\n",
        "\n",
        "np.random.seed(seed=2554)\n",
        "segment_constructor = {}\n",
        "\n",
        "# Iterate over segments to create data for each\n",
        "for name in segment_names:\n",
        "  segment_data_subset = {}\n",
        "  print('segment: {0}'.format(name))\n",
        "  # Within each segment, iterate over the variables and generate data\n",
        "  for variable in segment_variables:\n",
        "    print('\\tvariable: {0}'.format(variable))\n",
        "    if segment_variables_distribution[variable] == 'normal':\n",
        "      # Draw random normals\n",
        "      segment_data_subset[variable] = np.random.normal(\n",
        "          loc=segment_statistics[name][variable]['mean'],\n",
        "          scale=segment_statistics[name][variable]['stddev'],\n",
        "          size=segment_statistics[name]['size']\n",
        "      )\n",
        "    elif segment_variables_distribution[variable] == 'poisson':\n",
        "      # Draw counts\n",
        "      segment_data_subset[variable] = np.random.poisson(\n",
        "          lam=segment_statistics[name][variable]['mean'],\n",
        "          size=segment_statistics[name]['size']\n",
        "      )\n",
        "    elif segment_variables_distribution[variable] == 'binomial':\n",
        "      # Draw binomials\n",
        "      segment_data_subset[variable] = np.random.binomial(\n",
        "          n=1,\n",
        "          p=segment_statistics[name][variable]['mean'],\n",
        "          size=segment_statistics[name]['size']\n",
        "      )\n",
        "    else:\n",
        "      # Data type unknown\n",
        "      print('Bad segment data type: {0}'.format(\n",
        "          segment_variables_distribution[j])\n",
        "           )\n",
        "      raise StopIteration\n",
        "  segment_data_subset['Segment'] = np.repeat(\n",
        "      name,\n",
        "      repeats=segment_statistics[name]['size']\n",
        "  )\n",
        "  segment_constructor[name] = pd.DataFrame(segment_data_subset)\n",
        "segment_data = pd.concat(segment_constructor.values())"
      ],
      "execution_count": 36,
      "outputs": [
        {
          "output_type": "stream",
          "text": [
            "segment: suburb_mix\n",
            "\tvariable: age\n",
            "\tvariable: gender\n",
            "\tvariable: income\n",
            "\tvariable: kids\n",
            "\tvariable: own_home\n",
            "\tvariable: subscribe\n",
            "segment: urban_hip\n",
            "\tvariable: age\n",
            "\tvariable: gender\n",
            "\tvariable: income\n",
            "\tvariable: kids\n",
            "\tvariable: own_home\n",
            "\tvariable: subscribe\n",
            "segment: travelers\n",
            "\tvariable: age\n",
            "\tvariable: gender\n",
            "\tvariable: income\n",
            "\tvariable: kids\n",
            "\tvariable: own_home\n",
            "\tvariable: subscribe\n",
            "segment: moving_up\n",
            "\tvariable: age\n",
            "\tvariable: gender\n",
            "\tvariable: income\n",
            "\tvariable: kids\n",
            "\tvariable: own_home\n",
            "\tvariable: subscribe\n"
          ],
          "name": "stdout"
        }
      ]
    },
    {
      "cell_type": "code",
      "metadata": {
        "id": "el8OlzgIgzB0"
      },
      "source": [
        "segment_data.head()"
      ],
      "execution_count": null,
      "outputs": []
    },
    {
      "cell_type": "code",
      "metadata": {
        "id": "vnu4VlvkA_GT"
      },
      "source": [
        "name = 'suburb_mix'\n",
        "variable = 'age'\n",
        "print(segment_statistics[name][variable]['mean'])\n",
        "print(segment_statistics[name][variable]['stddev'])\n",
        "np.random.normal(\n",
        "    loc=segment_statistics[name][variable]['mean'],\n",
        "    scale=segment_statistics[name][variable]['stddev'],\n",
        "    size=10\n",
        ")"
      ],
      "execution_count": null,
      "outputs": []
    },
    {
      "cell_type": "code",
      "metadata": {
        "id": "mmtnfzMACsH7"
      },
      "source": [
        "variable = 'kids'\n",
        "print(segment_statistics[name][variable]['mean'])\n",
        "print(segment_statistics[name][variable]['stddev'])\n",
        "np.random.poisson(\n",
        "    lam=segment_statistics[name][variable]['mean'],\n",
        "    size=10\n",
        ")"
      ],
      "execution_count": null,
      "outputs": []
    },
    {
      "cell_type": "code",
      "metadata": {
        "id": "sJ7kBVk3BSkW"
      },
      "source": [
        "variable = 'gender'\n",
        "print(segment_statistics[name][variable]['mean'])\n",
        "print(segment_statistics[name][variable]['stddev'])\n",
        "np.random.binomial(\n",
        "    n=1,\n",
        "    p=segment_statistics[name][variable]['mean'],\n",
        "    size=10\n",
        ")"
      ],
      "execution_count": null,
      "outputs": []
    },
    {
      "cell_type": "code",
      "metadata": {
        "id": "AdZ5sKJugy9A"
      },
      "source": [
        "np.repeat(name, repeats=10)"
      ],
      "execution_count": null,
      "outputs": []
    },
    {
      "cell_type": "code",
      "metadata": {
        "id": "LKqxwci2s1aY"
      },
      "source": [
        "segment_data['gender'] = segment_data['gender'].apply(\n",
        "    lambda x: 'male' if x else 'female'\n",
        ")\n",
        "segment_data['own_home'] = segment_data['own_home'].apply(\n",
        "    lambda x: True if x else False\n",
        ")\n",
        "segment_data['subscribe'] = segment_data['subscribe'].apply(\n",
        "    lambda x: True if x else False\n",
        ")"
      ],
      "execution_count": null,
      "outputs": []
    },
    {
      "cell_type": "code",
      "metadata": {
        "id": "7d-9gdRX0cFv"
      },
      "source": [
        "segment_data.describe(include='all')"
      ],
      "execution_count": null,
      "outputs": []
    },
    {
      "cell_type": "code",
      "metadata": {
        "id": "zIzfDi4rr7NY"
      },
      "source": [
        "segment_data.head()"
      ],
      "execution_count": null,
      "outputs": []
    },
    {
      "cell_type": "code",
      "metadata": {
        "id": "V_KyCgdZ2C7v"
      },
      "source": [
        "from google.colab import files\n",
        "with open('segment_dataframe_Python_intro_Ch5.csv', 'w') as f:\n",
        "  segment_data.to_csv(f)\n",
        "\n",
        "files.download('segment_dataframe_Python_intro_Ch5.csv')"
      ],
      "execution_count": null,
      "outputs": []
    }
  ]
}